{
 "cells": [
  {
   "cell_type": "code",
   "execution_count": 22,
   "metadata": {},
   "outputs": [],
   "source": [
    "import numpy as np\n",
    "import pandas as pd\n",
    "from gensim.models.word2vec import Word2Vec\n",
    "from sklearn.model_selection import train_test_split\n",
    "from keras.utils import to_categorical\n",
    "from keras.layers import Dense, Dropout, Embedding, Activation, Bidirectional, LSTM,Conv1D,MaxPooling1D\n",
    "from sklearn import preprocessing\n",
    "from keras.preprocessing.text import Tokenizer\n",
    "from keras_preprocessing.sequence import pad_sequences\n",
    "from keras.models import Sequential\n",
    "import re\n",
    "import nltk\n",
    "from nltk.corpus import stopwords\n",
    "from sklearn.svm import SVC\n",
    "from sklearn.linear_model import LogisticRegression\n",
    "from sklearn.metrics import classification_report"
   ]
  },
  {
   "cell_type": "code",
   "execution_count": 6,
   "metadata": {},
   "outputs": [],
   "source": [
    "import pandas as pd\n",
    "import os,random,math\n",
    "TRAINING_DIR=\"propaganda_dataset_v2\"\n",
    "files=os.listdir(TRAINING_DIR)\n",
    "#since we have just two files we dont need loops\n",
    "traindf= pd.read_csv(os.path.join(TRAINING_DIR,files[0]),sep = '\\t')\n",
    "testdf= pd.read_csv(os.path.join(TRAINING_DIR,files[1]),sep = '\\t')"
   ]
  },
  {
   "cell_type": "code",
   "execution_count": 7,
   "metadata": {},
   "outputs": [],
   "source": [
    "def convert_text(sentences):\n",
    "    start_sent = sentences.replace(\"<BOS>\",\"\")\n",
    "    end_sent =start_sent.replace(\"<EOS>\",\"\")\n",
    "    return end_sent"
   ]
  },
  {
   "cell_type": "code",
   "execution_count": 8,
   "metadata": {},
   "outputs": [],
   "source": [
    "testdf[\"tagged_in_context\"]=testdf[\"tagged_in_context\"].map(convert_text)\n",
    "traindf[\"tagged_in_context\"]=traindf[\"tagged_in_context\"].map(convert_text)"
   ]
  },
  {
   "cell_type": "code",
   "execution_count": 9,
   "metadata": {},
   "outputs": [],
   "source": [
    "two_class_traindf=traindf\n",
    "two_class_testdf=testdf"
   ]
  },
  {
   "cell_type": "code",
   "execution_count": 10,
   "metadata": {},
   "outputs": [
    {
     "data": {
      "text/html": [
       "<div>\n",
       "<style scoped>\n",
       "    .dataframe tbody tr th:only-of-type {\n",
       "        vertical-align: middle;\n",
       "    }\n",
       "\n",
       "    .dataframe tbody tr th {\n",
       "        vertical-align: top;\n",
       "    }\n",
       "\n",
       "    .dataframe thead th {\n",
       "        text-align: right;\n",
       "    }\n",
       "</style>\n",
       "<table border=\"1\" class=\"dataframe\">\n",
       "  <thead>\n",
       "    <tr style=\"text-align: right;\">\n",
       "      <th></th>\n",
       "      <th>label</th>\n",
       "      <th>tagged_in_context</th>\n",
       "    </tr>\n",
       "  </thead>\n",
       "  <tbody>\n",
       "    <tr>\n",
       "      <th>0</th>\n",
       "      <td>1</td>\n",
       "      <td>No,  he  will not be confirmed.</td>\n",
       "    </tr>\n",
       "    <tr>\n",
       "      <th>1</th>\n",
       "      <td>1</td>\n",
       "      <td>This declassification effort  won’t make thing...</td>\n",
       "    </tr>\n",
       "    <tr>\n",
       "      <th>2</th>\n",
       "      <td>0</td>\n",
       "      <td>The Obama administration misled the  American ...</td>\n",
       "    </tr>\n",
       "    <tr>\n",
       "      <th>3</th>\n",
       "      <td>1</td>\n",
       "      <td>“It looks like we’re capturing the demise of t...</td>\n",
       "    </tr>\n",
       "    <tr>\n",
       "      <th>4</th>\n",
       "      <td>1</td>\n",
       "      <td>Location: Westerville, Ohio</td>\n",
       "    </tr>\n",
       "    <tr>\n",
       "      <th>...</th>\n",
       "      <td>...</td>\n",
       "      <td>...</td>\n",
       "    </tr>\n",
       "    <tr>\n",
       "      <th>2409</th>\n",
       "      <td>1</td>\n",
       "      <td>We support and appreciate  your business.”</td>\n",
       "    </tr>\n",
       "    <tr>\n",
       "      <th>2410</th>\n",
       "      <td>1</td>\n",
       "      <td>International Atomic Energy Agency (IAEA) Dire...</td>\n",
       "    </tr>\n",
       "    <tr>\n",
       "      <th>2411</th>\n",
       "      <td>1</td>\n",
       "      <td>What has been done: there has been work on for...</td>\n",
       "    </tr>\n",
       "    <tr>\n",
       "      <th>2412</th>\n",
       "      <td>1</td>\n",
       "      <td>This is  the law of gradualness not the gradua...</td>\n",
       "    </tr>\n",
       "    <tr>\n",
       "      <th>2413</th>\n",
       "      <td>0</td>\n",
       "      <td>In it, Jews are described as: “arrogant,” “jea...</td>\n",
       "    </tr>\n",
       "  </tbody>\n",
       "</table>\n",
       "<p>2414 rows × 2 columns</p>\n",
       "</div>"
      ],
      "text/plain": [
       "      label                                  tagged_in_context\n",
       "0         1                   No,  he  will not be confirmed. \n",
       "1         1  This declassification effort  won’t make thing...\n",
       "2         0  The Obama administration misled the  American ...\n",
       "3         1  “It looks like we’re capturing the demise of t...\n",
       "4         1                      Location: Westerville, Ohio  \n",
       "...     ...                                                ...\n",
       "2409      1        We support and appreciate  your business.” \n",
       "2410      1  International Atomic Energy Agency (IAEA) Dire...\n",
       "2411      1  What has been done: there has been work on for...\n",
       "2412      1  This is  the law of gradualness not the gradua...\n",
       "2413      0  In it, Jews are described as: “arrogant,” “jea...\n",
       "\n",
       "[2414 rows x 2 columns]"
      ]
     },
     "execution_count": 10,
     "metadata": {},
     "output_type": "execute_result"
    }
   ],
   "source": [
    "def convert_labels(label):\n",
    "    return 1 if label==\"not_propaganda\" else 0\n",
    "two_class_testdf[\"label\"]= two_class_testdf[\"label\"].map(convert_labels)\n",
    "two_class_traindf[\"label\"]=two_class_traindf[\"label\"].map(convert_labels)\n",
    "two_class_traindf"
   ]
  },
  {
   "cell_type": "code",
   "execution_count": 12,
   "metadata": {},
   "outputs": [],
   "source": [
    "def preprocess_text(sen):\n",
    "    # Remove punctuations and numbers\n",
    "    sentence = re.sub('[^a-zA-Z]', ' ', sen)\n",
    "\n",
    "    # Single character removal\n",
    "    sentence = re.sub(r\"\\s+[a-zA-Z]\\s+\", ' ', sentence)\n",
    "\n",
    "    # Removing multiple spaces\n",
    "    sentence = re.sub(r'\\s+', ' ', sentence)\n",
    "    \n",
    "    stops = stopwords.words('english')\n",
    "    #print(stops)\n",
    "    \n",
    "    return sentence.lower()"
   ]
  },
  {
   "cell_type": "code",
   "execution_count": 13,
   "metadata": {},
   "outputs": [],
   "source": [
    "two_class_testdf[\"tagged_in_context\"]=two_class_testdf[\"tagged_in_context\"].map(preprocess_text)\n",
    "two_class_traindf[\"tagged_in_context\"]=two_class_traindf[\"tagged_in_context\"].map(preprocess_text)"
   ]
  },
  {
   "cell_type": "code",
   "execution_count": 14,
   "metadata": {},
   "outputs": [],
   "source": [
    "from keras.utils import to_categorical\n",
    "y_train = to_categorical(two_class_traindf[\"label\"])\n",
    "y_test = to_categorical(two_class_testdf[\"label\"])"
   ]
  },
  {
   "cell_type": "code",
   "execution_count": 15,
   "metadata": {},
   "outputs": [],
   "source": [
    "from keras.preprocessing.text import Tokenizer\n",
    "no_words=10000\n",
    "tokenizer=Tokenizer(num_words=no_words,lower=True)"
   ]
  },
  {
   "cell_type": "code",
   "execution_count": 16,
   "metadata": {},
   "outputs": [],
   "source": [
    "mes = []\n",
    "for i in two_class_testdf['tagged_in_context']:\n",
    "    mes.append(i.split())\n",
    "for i in two_class_traindf['tagged_in_context']:\n",
    "    mes.append(i.split())"
   ]
  },
  {
   "cell_type": "code",
   "execution_count": 17,
   "metadata": {},
   "outputs": [],
   "source": [
    "tokenizer.fit_on_texts(mes)"
   ]
  },
  {
   "cell_type": "code",
   "execution_count": 18,
   "metadata": {},
   "outputs": [],
   "source": [
    "X_train=tokenizer.texts_to_sequences(two_class_traindf[\"tagged_in_context\"]) # this converts texts into some numeric sequences \n",
    "X_train_pad=pad_sequences(X_train,maxlen=140,padding='post') # this makes the length of all numeric sequences equal \n",
    "X_test = tokenizer.texts_to_sequences(two_class_testdf[\"tagged_in_context\"])\n",
    "X_test_pad = pad_sequences(X_test, maxlen = 140, padding = 'post')"
   ]
  },
  {
   "cell_type": "code",
   "execution_count": 19,
   "metadata": {},
   "outputs": [],
   "source": [
    "import gensim.downloader as api\n",
    "glove_gensim  = api.load('glove-wiki-gigaword-100')"
   ]
  },
  {
   "cell_type": "code",
   "execution_count": 20,
   "metadata": {},
   "outputs": [],
   "source": [
    "vector_size = 100\n",
    "gensim_weight_matrix = np.zeros((no_words ,vector_size))\n",
    "gensim_weight_matrix.shape\n",
    "words = list(glove_gensim.key_to_index.keys())\n",
    "for word, index in tokenizer.word_index.items():\n",
    "    if index < no_words: # since index starts with zero \n",
    "        if word in  words:\n",
    "            gensim_weight_matrix[index] = glove_gensim[word]\n",
    "        else:\n",
    "            gensim_weight_matrix[index] = np.zeros(100)"
   ]
  },
  {
   "cell_type": "code",
   "execution_count": 26,
   "metadata": {},
   "outputs": [
    {
     "name": "stdout",
     "output_type": "stream",
     "text": [
      "Model: \"sequential_2\"\n",
      "_________________________________________________________________\n",
      " Layer (type)                Output Shape              Param #   \n",
      "=================================================================\n",
      " embedding_2 (Embedding)     (None, 140, 100)          1000000   \n",
      "                                                                 \n",
      " conv1d_1 (Conv1D)           (None, 140, 32)           9632      \n",
      "                                                                 \n",
      " max_pooling1d_1 (MaxPooling  (None, 70, 32)           0         \n",
      " 1D)                                                             \n",
      "                                                                 \n",
      " lstm_1 (LSTM)               (None, 100)               53200     \n",
      "                                                                 \n",
      " dense_1 (Dense)             (None, 2)                 202       \n",
      "                                                                 \n",
      "=================================================================\n",
      "Total params: 1,063,034\n",
      "Trainable params: 63,034\n",
      "Non-trainable params: 1,000,000\n",
      "_________________________________________________________________\n",
      "None\n"
     ]
    }
   ],
   "source": [
    "# create the model\n",
    "EMBEDDING_DIM = 100\n",
    "class_num = 2\n",
    "embedding_vecor_length = 32\n",
    "model = Sequential()\n",
    "model.add(Embedding(input_dim = no_words,\n",
    " output_dim = EMBEDDING_DIM,\n",
    " input_length= X_train_pad.shape[1],\n",
    " weights = [gensim_weight_matrix],trainable = False))\n",
    "model.add(Conv1D(filters=32, kernel_size=3, padding='same', activation='relu'))\n",
    "model.add(MaxPooling1D(pool_size=2))\n",
    "model.add(LSTM(100))\n",
    "model.add(Dense(2, activation='sigmoid'))\n",
    "model.compile(loss='categorical_crossentropy', optimizer='adam', metrics=['accuracy'])\n",
    "print(model.summary())\n"
   ]
  },
  {
   "cell_type": "code",
   "execution_count": 27,
   "metadata": {},
   "outputs": [],
   "source": [
    "from keras.callbacks import EarlyStopping, ModelCheckpoint\n",
    "es = EarlyStopping(monitor = 'val_loss', mode = 'min', verbose = 1, patience = 5)\n",
    "mc = ModelCheckpoint('./CNNLASTMmodel.h5', monitor = 'val_accuracy', mode = 'max', verbose = 1, save_best_only = True)"
   ]
  },
  {
   "cell_type": "code",
   "execution_count": 28,
   "metadata": {},
   "outputs": [
    {
     "name": "stdout",
     "output_type": "stream",
     "text": [
      "Epoch 1/25\n",
      "21/21 [==============================] - ETA: 0s - loss: 0.6919 - accuracy: 0.4959\n",
      "Epoch 1: val_accuracy improved from -inf to 0.48103, saving model to .\\CNNLASTMmodel.h5\n",
      "21/21 [==============================] - 16s 66ms/step - loss: 0.6919 - accuracy: 0.4959 - val_loss: 0.6953 - val_accuracy: 0.4810\n",
      "Epoch 2/25\n",
      "21/21 [==============================] - ETA: 0s - loss: 0.6896 - accuracy: 0.5244\n",
      "Epoch 2: val_accuracy improved from 0.48103 to 0.52759, saving model to .\\CNNLASTMmodel.h5\n",
      "21/21 [==============================] - 1s 51ms/step - loss: 0.6896 - accuracy: 0.5244 - val_loss: 0.6916 - val_accuracy: 0.5276\n",
      "Epoch 3/25\n",
      "21/21 [==============================] - ETA: 0s - loss: 0.6887 - accuracy: 0.5369\n",
      "Epoch 3: val_accuracy did not improve from 0.52759\n",
      "21/21 [==============================] - 1s 45ms/step - loss: 0.6887 - accuracy: 0.5369 - val_loss: 0.6939 - val_accuracy: 0.4983\n",
      "Epoch 4/25\n",
      "20/21 [===========================>..] - ETA: 0s - loss: 0.6568 - accuracy: 0.6125\n",
      "Epoch 4: val_accuracy improved from 0.52759 to 0.59483, saving model to .\\CNNLASTMmodel.h5\n",
      "21/21 [==============================] - 1s 53ms/step - loss: 0.6571 - accuracy: 0.6123 - val_loss: 0.6654 - val_accuracy: 0.5948\n",
      "Epoch 5/25\n",
      "21/21 [==============================] - ETA: 0s - loss: 0.6075 - accuracy: 0.6868\n",
      "Epoch 5: val_accuracy improved from 0.59483 to 0.67931, saving model to .\\CNNLASTMmodel.h5\n",
      "21/21 [==============================] - 1s 45ms/step - loss: 0.6075 - accuracy: 0.6868 - val_loss: 0.6238 - val_accuracy: 0.6793\n",
      "Epoch 6/25\n",
      "20/21 [===========================>..] - ETA: 0s - loss: 0.5903 - accuracy: 0.7054\n",
      "Epoch 6: val_accuracy did not improve from 0.67931\n",
      "21/21 [==============================] - 1s 31ms/step - loss: 0.5906 - accuracy: 0.7046 - val_loss: 0.6131 - val_accuracy: 0.6759\n",
      "Epoch 7/25\n",
      "20/21 [===========================>..] - ETA: 0s - loss: 0.5674 - accuracy: 0.7271\n",
      "Epoch 7: val_accuracy did not improve from 0.67931\n",
      "21/21 [==============================] - 1s 51ms/step - loss: 0.5685 - accuracy: 0.7258 - val_loss: 0.5832 - val_accuracy: 0.6741\n",
      "Epoch 8/25\n",
      "20/21 [===========================>..] - ETA: 0s - loss: 0.5354 - accuracy: 0.7383\n",
      "Epoch 8: val_accuracy improved from 0.67931 to 0.70000, saving model to .\\CNNLASTMmodel.h5\n",
      "21/21 [==============================] - 1s 39ms/step - loss: 0.5357 - accuracy: 0.7386 - val_loss: 0.5722 - val_accuracy: 0.7000\n",
      "Epoch 9/25\n",
      "21/21 [==============================] - ETA: 0s - loss: 0.4992 - accuracy: 0.7672\n",
      "Epoch 9: val_accuracy improved from 0.70000 to 0.72759, saving model to .\\CNNLASTMmodel.h5\n",
      "21/21 [==============================] - 1s 49ms/step - loss: 0.4992 - accuracy: 0.7672 - val_loss: 0.5679 - val_accuracy: 0.7276\n",
      "Epoch 10/25\n",
      "21/21 [==============================] - ETA: 0s - loss: 0.5099 - accuracy: 0.7738\n",
      "Epoch 10: val_accuracy did not improve from 0.72759\n",
      "21/21 [==============================] - 1s 38ms/step - loss: 0.5099 - accuracy: 0.7738 - val_loss: 0.5817 - val_accuracy: 0.6948\n",
      "Epoch 11/25\n",
      "21/21 [==============================] - ETA: 0s - loss: 0.4680 - accuracy: 0.7962\n",
      "Epoch 11: val_accuracy did not improve from 0.72759\n",
      "21/21 [==============================] - 1s 40ms/step - loss: 0.4680 - accuracy: 0.7962 - val_loss: 0.5416 - val_accuracy: 0.7241\n",
      "Epoch 12/25\n",
      "20/21 [===========================>..] - ETA: 0s - loss: 0.4553 - accuracy: 0.8067\n",
      "Epoch 12: val_accuracy did not improve from 0.72759\n",
      "21/21 [==============================] - 1s 45ms/step - loss: 0.4561 - accuracy: 0.8057 - val_loss: 0.5742 - val_accuracy: 0.6828\n",
      "Epoch 13/25\n",
      "21/21 [==============================] - ETA: 0s - loss: 0.4668 - accuracy: 0.7817\n",
      "Epoch 13: val_accuracy did not improve from 0.72759\n",
      "21/21 [==============================] - 1s 46ms/step - loss: 0.4668 - accuracy: 0.7817 - val_loss: 0.6198 - val_accuracy: 0.6448\n",
      "Epoch 14/25\n",
      "20/21 [===========================>..] - ETA: 0s - loss: 0.4302 - accuracy: 0.8142\n",
      "Epoch 14: val_accuracy did not improve from 0.72759\n",
      "21/21 [==============================] - 1s 39ms/step - loss: 0.4298 - accuracy: 0.8144 - val_loss: 0.5929 - val_accuracy: 0.7086\n",
      "Epoch 15/25\n",
      "20/21 [===========================>..] - ETA: 0s - loss: 0.3818 - accuracy: 0.8533\n",
      "Epoch 15: val_accuracy did not improve from 0.72759\n",
      "21/21 [==============================] - 1s 50ms/step - loss: 0.3815 - accuracy: 0.8529 - val_loss: 0.6492 - val_accuracy: 0.7034\n",
      "Epoch 16/25\n",
      "21/21 [==============================] - ETA: 0s - loss: 0.3503 - accuracy: 0.8691\n",
      "Epoch 16: val_accuracy did not improve from 0.72759\n",
      "21/21 [==============================] - 1s 37ms/step - loss: 0.3503 - accuracy: 0.8691 - val_loss: 0.7603 - val_accuracy: 0.6966\n",
      "Epoch 16: early stopping\n"
     ]
    }
   ],
   "source": [
    "history_embedding = model.fit(X_train_pad, y_train, \n",
    "                                epochs = 25, batch_size = 120, \n",
    "                                validation_data=(X_test_pad, y_test),\n",
    "                                verbose = 1, callbacks= [es, mc]  )"
   ]
  },
  {
   "cell_type": "code",
   "execution_count": 29,
   "metadata": {},
   "outputs": [
    {
     "data": {
      "image/png": "[encoded data removed]",
      "text/plain": [
       "<Figure size 640x480 with 1 Axes>"
      ]
     },
     "metadata": {},
     "output_type": "display_data"
    }
   ],
   "source": [
    "import matplotlib.pyplot as plt\n",
    "plt.plot(history_embedding.history['accuracy'],c='b',label='train accuracy')\n",
    "plt.plot(history_embedding.history['val_accuracy'],c='r',label='validation accuracy')\n",
    "plt.legend(loc='lower right')\n",
    "plt.show()"
   ]
  },
  {
   "cell_type": "code",
   "execution_count": 30,
   "metadata": {},
   "outputs": [
    {
     "name": "stdout",
     "output_type": "stream",
     "text": [
      "19/19 [==============================] - 1s 18ms/step\n",
      "              precision    recall  f1-score   support\n",
      "\n",
      "           0       0.56      0.75      0.64       209\n",
      "           1       0.82      0.67      0.74       371\n",
      "\n",
      "    accuracy                           0.70       580\n",
      "   macro avg       0.69      0.71      0.69       580\n",
      "weighted avg       0.73      0.70      0.70       580\n",
      "\n"
     ]
    }
   ],
   "source": [
    "y_pred =   np.argmax(model.predict(X_test_pad), axis  =  1)\n",
    "y_true = np.argmax(y_test, axis = 1)\n",
    "from sklearn import metrics\n",
    "print(metrics.classification_report(y_pred, y_true))"
   ]
  },
  {
   "cell_type": "code",
   "execution_count": null,
   "metadata": {},
   "outputs": [],
   "source": []
  }
 ],
 "metadata": {
  "kernelspec": {
   "display_name": "tf",
   "language": "python",
   "name": "python3"
  },
  "language_info": {
   "codemirror_mode": {
    "name": "ipython",
    "version": 3
   },
   "file_extension": ".py",
   "mimetype": "text/x-python",
   "name": "python",
   "nbconvert_exporter": "python",
   "pygments_lexer": "ipython3",
   "version": "3.9.16"
  },
  "orig_nbformat": 4
 },
 "nbformat": 4,
 "nbformat_minor": 2
}
