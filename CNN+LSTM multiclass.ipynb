{
 "cells": [
  {
   "cell_type": "code",
   "execution_count": 1,
   "metadata": {},
   "outputs": [],
   "source": [
    "import numpy as np\n",
    "import pandas as pd\n",
    "from gensim.models.word2vec import Word2Vec\n",
    "from sklearn.model_selection import train_test_split\n",
    "from keras.utils import to_categorical\n",
    "from keras.layers import Dense, Dropout, Embedding, Activation, Bidirectional, LSTM,Conv1D,MaxPooling1D\n",
    "from sklearn import preprocessing\n",
    "from keras.preprocessing.text import Tokenizer\n",
    "from keras_preprocessing.sequence import pad_sequences\n",
    "from keras.models import Sequential\n",
    "import re\n",
    "import nltk\n",
    "from nltk.corpus import stopwords\n",
    "from sklearn.svm import SVC\n",
    "from sklearn.linear_model import LogisticRegression\n",
    "from sklearn.metrics import classification_report"
   ]
  },
  {
   "cell_type": "code",
   "execution_count": 2,
   "metadata": {},
   "outputs": [
    {
     "data": {
      "text/html": [
       "<div>\n",
       "<style scoped>\n",
       "    .dataframe tbody tr th:only-of-type {\n",
       "        vertical-align: middle;\n",
       "    }\n",
       "\n",
       "    .dataframe tbody tr th {\n",
       "        vertical-align: top;\n",
       "    }\n",
       "\n",
       "    .dataframe thead th {\n",
       "        text-align: right;\n",
       "    }\n",
       "</style>\n",
       "<table border=\"1\" class=\"dataframe\">\n",
       "  <thead>\n",
       "    <tr style=\"text-align: right;\">\n",
       "      <th></th>\n",
       "      <th>label</th>\n",
       "      <th>tagged_in_context</th>\n",
       "    </tr>\n",
       "  </thead>\n",
       "  <tbody>\n",
       "    <tr>\n",
       "      <th>0</th>\n",
       "      <td>not_propaganda</td>\n",
       "      <td>according to a UN estimate.</td>\n",
       "    </tr>\n",
       "    <tr>\n",
       "      <th>1</th>\n",
       "      <td>causal_oversimplification</td>\n",
       "      <td>the country would not last long without an ou...</td>\n",
       "    </tr>\n",
       "    <tr>\n",
       "      <th>2</th>\n",
       "      <td>appeal_to_fear_prejudice</td>\n",
       "      <td>gets Earl Warren and Sen. Richard Russel to j...</td>\n",
       "    </tr>\n",
       "    <tr>\n",
       "      <th>3</th>\n",
       "      <td>not_propaganda</td>\n",
       "      <td>You</td>\n",
       "    </tr>\n",
       "    <tr>\n",
       "      <th>4</th>\n",
       "      <td>repetition</td>\n",
       "      <td>infidels</td>\n",
       "    </tr>\n",
       "    <tr>\n",
       "      <th>5</th>\n",
       "      <td>name_calling,labeling</td>\n",
       "      <td>the \"gay lifestyle</td>\n",
       "    </tr>\n",
       "    <tr>\n",
       "      <th>6</th>\n",
       "      <td>loaded_language</td>\n",
       "      <td>devastating communities</td>\n",
       "    </tr>\n",
       "    <tr>\n",
       "      <th>7</th>\n",
       "      <td>not_propaganda</td>\n",
       "      <td>Jacob</td>\n",
       "    </tr>\n",
       "    <tr>\n",
       "      <th>8</th>\n",
       "      <td>flag_waving</td>\n",
       "      <td>Iran’s long rap sheet of aggression against A...</td>\n",
       "    </tr>\n",
       "    <tr>\n",
       "      <th>9</th>\n",
       "      <td>doubt</td>\n",
       "      <td>Now, the pope’s reply to my testimony was: “I...</td>\n",
       "    </tr>\n",
       "  </tbody>\n",
       "</table>\n",
       "</div>"
      ],
      "text/plain": [
       "                       label   \n",
       "0             not_propaganda  \\\n",
       "1  causal_oversimplification   \n",
       "2   appeal_to_fear_prejudice   \n",
       "3             not_propaganda   \n",
       "4                 repetition   \n",
       "5      name_calling,labeling   \n",
       "6            loaded_language   \n",
       "7             not_propaganda   \n",
       "8                flag_waving   \n",
       "9                      doubt   \n",
       "\n",
       "                                   tagged_in_context  \n",
       "0                       according to a UN estimate.   \n",
       "1   the country would not last long without an ou...  \n",
       "2   gets Earl Warren and Sen. Richard Russel to j...  \n",
       "3                                               You   \n",
       "4                                          infidels   \n",
       "5                                the \"gay lifestyle   \n",
       "6                           devastating communities   \n",
       "7                                             Jacob   \n",
       "8   Iran’s long rap sheet of aggression against A...  \n",
       "9   Now, the pope’s reply to my testimony was: “I...  "
      ]
     },
     "execution_count": 2,
     "metadata": {},
     "output_type": "execute_result"
    }
   ],
   "source": [
    "import pandas as pd\n",
    "import os,random,math\n",
    "\n",
    "TRAINING_DIR=\"propaganda_dataset_v2\"\n",
    "files=os.listdir(TRAINING_DIR)\n",
    "#since we have just two files we dont need loops\n",
    "traindf= pd.read_csv(os.path.join(TRAINING_DIR,files[0]),sep = '\\t')\n",
    "testdf= pd.read_csv(os.path.join(TRAINING_DIR,files[1]),sep = '\\t')\n",
    "\n",
    "\n",
    "def convert_text(sentences):\n",
    "    start_sent=sentences.split(\"<BOS>\")\n",
    "    end_sent=start_sent[1].split(\"<EOS>\")\n",
    "    return end_sent[0]\n",
    "\n",
    "testdf[\"tagged_in_context\"]=testdf[\"tagged_in_context\"].map(convert_text)\n",
    "traindf[\"tagged_in_context\"]=traindf[\"tagged_in_context\"].map(convert_text)\n",
    "\n",
    "testdf.head(10)"
   ]
  },
  {
   "cell_type": "code",
   "execution_count": 3,
   "metadata": {},
   "outputs": [],
   "source": [
    "def convert_labels_multiclass(label):\n",
    "    if label==\"flag_waving\":\n",
    "        return 0\n",
    "    elif label==\"appeal_to_fear_prejudice\":\n",
    "        return 1\n",
    "    elif label==\"causal_oversimplification\":\n",
    "        return 2\n",
    "    elif label ==\"doubt\":\n",
    "        return 3\n",
    "    elif label == \"exaggeration,minimisation\":\n",
    "        return 4\n",
    "    elif label == \"loaded_language\":\n",
    "        return 5\n",
    "    elif label == \"name_calling,labeling\":\n",
    "        return 6\n",
    "    elif label == \"repetition\":\n",
    "        return 7\n",
    "     \n",
    "#drop rows with no propanganda\n",
    "\n",
    "testdf=testdf[testdf.label != \"not_propaganda\"]\n",
    "traindf = traindf[traindf.label != \"not_propaganda\"]\n",
    "\n",
    "traindf[\"label\"] = traindf[\"label\"].map(convert_labels_multiclass)\n",
    "testdf[\"label\"] = testdf[\"label\"].map(convert_labels_multiclass)\n",
    "\n",
    "traindf.reset_index(inplace=True)\n",
    "testdf.reset_index(inplace = True)"
   ]
  },
  {
   "cell_type": "code",
   "execution_count": 4,
   "metadata": {},
   "outputs": [],
   "source": [
    "def preprocess_text(sen):\n",
    "    # Remove punctuations and numbers\n",
    "    sentence = re.sub('[^a-zA-Z]', ' ', sen)\n",
    "\n",
    "    # Single character removal\n",
    "    sentence = re.sub(r\"\\s+[a-zA-Z]\\s+\", ' ', sentence)\n",
    "\n",
    "    # Removing multiple spaces\n",
    "    sentence = re.sub(r'\\s+', ' ', sentence)\n",
    "    \n",
    "    stops = stopwords.words('english')\n",
    "    #print(stops)\n",
    "    \n",
    "    return sentence.lower()"
   ]
  },
  {
   "cell_type": "code",
   "execution_count": 5,
   "metadata": {},
   "outputs": [],
   "source": [
    "testdf[\"tagged_in_context\"]=testdf[\"tagged_in_context\"].map(preprocess_text)\n",
    "traindf[\"tagged_in_context\"]=traindf[\"tagged_in_context\"].map(preprocess_text)"
   ]
  },
  {
   "cell_type": "code",
   "execution_count": 6,
   "metadata": {},
   "outputs": [],
   "source": [
    "from keras.utils import to_categorical\n",
    "y_train = to_categorical(traindf[\"label\"])\n",
    "y_test = to_categorical(testdf[\"label\"])"
   ]
  },
  {
   "cell_type": "code",
   "execution_count": 7,
   "metadata": {},
   "outputs": [],
   "source": [
    "from keras.preprocessing.text import Tokenizer\n",
    "no_words=10000\n",
    "tokenizer=Tokenizer(num_words=no_words,lower=True)"
   ]
  },
  {
   "cell_type": "code",
   "execution_count": 9,
   "metadata": {},
   "outputs": [],
   "source": [
    "mes = []\n",
    "for i in testdf['tagged_in_context']:\n",
    "    mes.append(i.split())\n",
    "for i in traindf['tagged_in_context']:\n",
    "    mes.append(i.split())"
   ]
  },
  {
   "cell_type": "code",
   "execution_count": 10,
   "metadata": {},
   "outputs": [],
   "source": [
    "tokenizer.fit_on_texts(mes)"
   ]
  },
  {
   "cell_type": "code",
   "execution_count": 11,
   "metadata": {},
   "outputs": [],
   "source": [
    "X_train=tokenizer.texts_to_sequences(traindf[\"tagged_in_context\"]) # this converts texts into some numeric sequences \n",
    "X_train_pad=pad_sequences(X_train,maxlen=140,padding='post') # this makes the length of all numeric sequences equal \n",
    "X_test = tokenizer.texts_to_sequences(testdf[\"tagged_in_context\"])\n",
    "X_test_pad = pad_sequences(X_test, maxlen = 140, padding = 'post')"
   ]
  },
  {
   "cell_type": "code",
   "execution_count": 12,
   "metadata": {},
   "outputs": [],
   "source": [
    "import gensim.downloader as api\n",
    "glove_gensim  = api.load('glove-wiki-gigaword-100')"
   ]
  },
  {
   "cell_type": "code",
   "execution_count": 14,
   "metadata": {},
   "outputs": [],
   "source": [
    "vector_size = 100\n",
    "gensim_weight_matrix = np.zeros((no_words ,vector_size))\n",
    "gensim_weight_matrix.shape\n",
    "words = list(glove_gensim.key_to_index.keys())\n",
    "for word, index in tokenizer.word_index.items():\n",
    "    if index < no_words: # since index starts with zero \n",
    "        if word in  words:\n",
    "            gensim_weight_matrix[index] = glove_gensim[word]\n",
    "        else:\n",
    "            gensim_weight_matrix[index] = np.zeros(100)"
   ]
  },
  {
   "cell_type": "code",
   "execution_count": 15,
   "metadata": {},
   "outputs": [
    {
     "name": "stdout",
     "output_type": "stream",
     "text": [
      "Model: \"sequential_1\"\n",
      "_________________________________________________________________\n",
      " Layer (type)                Output Shape              Param #   \n",
      "=================================================================\n",
      " embedding (Embedding)       (None, 140, 100)          1000000   \n",
      "                                                                 \n",
      " conv1d (Conv1D)             (None, 140, 32)           9632      \n",
      "                                                                 \n",
      " max_pooling1d (MaxPooling1D  (None, 70, 32)           0         \n",
      " )                                                               \n",
      "                                                                 \n",
      " lstm (LSTM)                 (None, 100)               53200     \n",
      "                                                                 \n",
      " dense (Dense)               (None, 8)                 808       \n",
      "                                                                 \n",
      "=================================================================\n",
      "Total params: 1,063,640\n",
      "Trainable params: 63,640\n",
      "Non-trainable params: 1,000,000\n",
      "_________________________________________________________________\n",
      "None\n"
     ]
    }
   ],
   "source": [
    "EMBEDDING_DIM = 100\n",
    "class_num = 2\n",
    "embedding_vecor_length = 32\n",
    "model = Sequential()\n",
    "model.add(Embedding(input_dim = no_words,\n",
    " output_dim = EMBEDDING_DIM,\n",
    " input_length= X_train_pad.shape[1],\n",
    " weights = [gensim_weight_matrix],trainable = False))\n",
    "model.add(Conv1D(filters=32, kernel_size=3, padding='same', activation='relu'))\n",
    "model.add(MaxPooling1D(pool_size=2))\n",
    "model.add(LSTM(100))\n",
    "model.add(Dense(8, activation='softmax'))\n",
    "model.compile(loss='categorical_crossentropy', optimizer='adam', metrics=['accuracy'])\n",
    "print(model.summary())"
   ]
  },
  {
   "cell_type": "code",
   "execution_count": 16,
   "metadata": {},
   "outputs": [],
   "source": [
    "from keras.callbacks import EarlyStopping, ModelCheckpoint\n",
    "es = EarlyStopping(monitor = 'val_loss', mode = 'min', verbose = 1, patience = 5)\n",
    "mc = ModelCheckpoint('./CNNLASTMmodel.h5', monitor = 'val_accuracy', mode = 'max', verbose = 1, save_best_only = True)"
   ]
  },
  {
   "cell_type": "code",
   "execution_count": 17,
   "metadata": {},
   "outputs": [
    {
     "name": "stdout",
     "output_type": "stream",
     "text": [
      "Epoch 1/25\n",
      "11/11 [==============================] - ETA: 0s - loss: 2.0800 - accuracy: 0.1137\n",
      "Epoch 1: val_accuracy improved from -inf to 0.10036, saving model to .\\CNNLASTMmodel.h5\n",
      "11/11 [==============================] - 14s 106ms/step - loss: 2.0800 - accuracy: 0.1137 - val_loss: 2.0804 - val_accuracy: 0.1004\n",
      "Epoch 2/25\n",
      "10/11 [==========================>...] - ETA: 0s - loss: 2.0775 - accuracy: 0.1400\n",
      "Epoch 2: val_accuracy improved from 0.10036 to 0.13620, saving model to .\\CNNLASTMmodel.h5\n",
      "11/11 [==============================] - 0s 40ms/step - loss: 2.0774 - accuracy: 0.1406 - val_loss: 2.0428 - val_accuracy: 0.1362\n",
      "Epoch 3/25\n",
      " 9/11 [=======================>......] - ETA: 0s - loss: 1.9747 - accuracy: 0.1880\n",
      "Epoch 3: val_accuracy improved from 0.13620 to 0.18996, saving model to .\\CNNLASTMmodel.h5\n",
      "11/11 [==============================] - 0s 37ms/step - loss: 1.9709 - accuracy: 0.1897 - val_loss: 1.9506 - val_accuracy: 0.1900\n",
      "Epoch 4/25\n",
      " 9/11 [=======================>......] - ETA: 0s - loss: 1.9186 - accuracy: 0.2083\n",
      "Epoch 4: val_accuracy improved from 0.18996 to 0.21864, saving model to .\\CNNLASTMmodel.h5\n",
      "11/11 [==============================] - 1s 47ms/step - loss: 1.9155 - accuracy: 0.2085 - val_loss: 1.8990 - val_accuracy: 0.2186\n",
      "Epoch 5/25\n",
      "10/11 [==========================>...] - ETA: 0s - loss: 1.8875 - accuracy: 0.2258\n",
      "Epoch 5: val_accuracy did not improve from 0.21864\n",
      "11/11 [==============================] - 0s 37ms/step - loss: 1.8866 - accuracy: 0.2240 - val_loss: 1.8975 - val_accuracy: 0.1971\n",
      "Epoch 6/25\n",
      "11/11 [==============================] - ETA: 0s - loss: 1.8593 - accuracy: 0.2159\n",
      "Epoch 6: val_accuracy did not improve from 0.21864\n",
      "11/11 [==============================] - 0s 44ms/step - loss: 1.8593 - accuracy: 0.2159 - val_loss: 1.8534 - val_accuracy: 0.2007\n",
      "Epoch 7/25\n",
      "10/11 [==========================>...] - ETA: 0s - loss: 1.8283 - accuracy: 0.2408\n",
      "Epoch 7: val_accuracy did not improve from 0.21864\n",
      "11/11 [==============================] - 0s 35ms/step - loss: 1.8268 - accuracy: 0.2412 - val_loss: 1.8112 - val_accuracy: 0.2043\n",
      "Epoch 8/25\n",
      "10/11 [==========================>...] - ETA: 0s - loss: 1.8017 - accuracy: 0.2392\n",
      "Epoch 8: val_accuracy improved from 0.21864 to 0.23656, saving model to .\\CNNLASTMmodel.h5\n",
      "11/11 [==============================] - 1s 46ms/step - loss: 1.8025 - accuracy: 0.2379 - val_loss: 1.8064 - val_accuracy: 0.2366\n",
      "Epoch 9/25\n",
      "11/11 [==============================] - ETA: 0s - loss: 1.8098 - accuracy: 0.2330\n",
      "Epoch 9: val_accuracy did not improve from 0.23656\n",
      "11/11 [==============================] - 1s 53ms/step - loss: 1.8098 - accuracy: 0.2330 - val_loss: 1.8303 - val_accuracy: 0.2043\n",
      "Epoch 10/25\n",
      " 9/11 [=======================>......] - ETA: 0s - loss: 1.7773 - accuracy: 0.2361\n",
      "Epoch 10: val_accuracy did not improve from 0.23656\n",
      "11/11 [==============================] - 0s 39ms/step - loss: 1.7941 - accuracy: 0.2322 - val_loss: 1.7954 - val_accuracy: 0.2043\n",
      "Epoch 11/25\n",
      "11/11 [==============================] - ETA: 0s - loss: 1.7521 - accuracy: 0.2502\n",
      "Epoch 11: val_accuracy did not improve from 0.23656\n",
      "11/11 [==============================] - 0s 40ms/step - loss: 1.7521 - accuracy: 0.2502 - val_loss: 1.7969 - val_accuracy: 0.2330\n",
      "Epoch 12/25\n",
      "11/11 [==============================] - ETA: 0s - loss: 1.7524 - accuracy: 0.2298\n",
      "Epoch 12: val_accuracy did not improve from 0.23656\n",
      "11/11 [==============================] - 0s 41ms/step - loss: 1.7524 - accuracy: 0.2298 - val_loss: 1.7819 - val_accuracy: 0.2151\n",
      "Epoch 13/25\n",
      " 9/11 [=======================>......] - ETA: 0s - loss: 1.7252 - accuracy: 0.2556\n",
      "Epoch 13: val_accuracy did not improve from 0.23656\n",
      "11/11 [==============================] - 0s 39ms/step - loss: 1.7232 - accuracy: 0.2518 - val_loss: 1.7773 - val_accuracy: 0.2115\n",
      "Epoch 14/25\n",
      "11/11 [==============================] - ETA: 0s - loss: 1.6965 - accuracy: 0.2641\n",
      "Epoch 14: val_accuracy did not improve from 0.23656\n",
      "11/11 [==============================] - 0s 41ms/step - loss: 1.6965 - accuracy: 0.2641 - val_loss: 1.7838 - val_accuracy: 0.2115\n",
      "Epoch 15/25\n",
      "11/11 [==============================] - ETA: 0s - loss: 1.6938 - accuracy: 0.2641\n",
      "Epoch 15: val_accuracy did not improve from 0.23656\n",
      "11/11 [==============================] - 0s 40ms/step - loss: 1.6938 - accuracy: 0.2641 - val_loss: 1.9199 - val_accuracy: 0.2043\n",
      "Epoch 16/25\n",
      "10/11 [==========================>...] - ETA: 0s - loss: 1.7098 - accuracy: 0.2783\n",
      "Epoch 16: val_accuracy did not improve from 0.23656\n",
      "11/11 [==============================] - 0s 35ms/step - loss: 1.7087 - accuracy: 0.2796 - val_loss: 1.8126 - val_accuracy: 0.2115\n",
      "Epoch 17/25\n",
      "11/11 [==============================] - ETA: 0s - loss: 1.6827 - accuracy: 0.2698\n",
      "Epoch 17: val_accuracy did not improve from 0.23656\n",
      "11/11 [==============================] - 1s 63ms/step - loss: 1.6827 - accuracy: 0.2698 - val_loss: 1.8445 - val_accuracy: 0.1935\n",
      "Epoch 18/25\n",
      "10/11 [==========================>...] - ETA: 0s - loss: 1.6859 - accuracy: 0.2733\n",
      "Epoch 18: val_accuracy did not improve from 0.23656\n",
      "11/11 [==============================] - 0s 32ms/step - loss: 1.6854 - accuracy: 0.2715 - val_loss: 1.7928 - val_accuracy: 0.2043\n",
      "Epoch 18: early stopping\n"
     ]
    }
   ],
   "source": [
    "history_embedding = model.fit(X_train_pad, y_train, \n",
    "                                epochs = 25, batch_size = 120, \n",
    "                                validation_data=(X_test_pad, y_test),\n",
    "                                verbose = 1, callbacks= [es, mc]  )"
   ]
  },
  {
   "cell_type": "code",
   "execution_count": 18,
   "metadata": {},
   "outputs": [
    {
     "data": {
      "image/png": "[encoded data removed]",
      "text/plain": [
       "<Figure size 640x480 with 1 Axes>"
      ]
     },
     "metadata": {},
     "output_type": "display_data"
    }
   ],
   "source": [
    "import matplotlib.pyplot as plt\n",
    "plt.plot(history_embedding.history['accuracy'],c='b',label='train accuracy')\n",
    "plt.plot(history_embedding.history['val_accuracy'],c='r',label='validation accuracy')\n",
    "plt.legend(loc='lower right')\n",
    "plt.show()"
   ]
  },
  {
   "cell_type": "code",
   "execution_count": 19,
   "metadata": {},
   "outputs": [
    {
     "name": "stdout",
     "output_type": "stream",
     "text": [
      "9/9 [==============================] - 1s 17ms/step\n",
      "              precision    recall  f1-score   support\n",
      "\n",
      "           0       0.00      0.00      0.00         0\n",
      "           1       0.00      0.00      0.00         0\n",
      "           2       1.00      0.21      0.35       147\n",
      "           3       0.00      0.00      0.00         0\n",
      "           4       0.25      0.21      0.23        34\n",
      "           5       0.08      0.12      0.10        24\n",
      "           6       0.52      0.22      0.30        74\n",
      "           7       0.00      0.00      0.00         0\n",
      "\n",
      "    accuracy                           0.20       279\n",
      "   macro avg       0.23      0.09      0.12       279\n",
      "weighted avg       0.70      0.20      0.30       279\n",
      "\n"
     ]
    },
    {
     "name": "stderr",
     "output_type": "stream",
     "text": [
      "c:\\Users\\loges\\.conda\\envs\\tf\\lib\\site-packages\\sklearn\\metrics\\_classification.py:1344: UndefinedMetricWarning: Recall and F-score are ill-defined and being set to 0.0 in labels with no true samples. Use `zero_division` parameter to control this behavior.\n",
      "  _warn_prf(average, modifier, msg_start, len(result))\n",
      "c:\\Users\\loges\\.conda\\envs\\tf\\lib\\site-packages\\sklearn\\metrics\\_classification.py:1344: UndefinedMetricWarning: Recall and F-score are ill-defined and being set to 0.0 in labels with no true samples. Use `zero_division` parameter to control this behavior.\n",
      "  _warn_prf(average, modifier, msg_start, len(result))\n",
      "c:\\Users\\loges\\.conda\\envs\\tf\\lib\\site-packages\\sklearn\\metrics\\_classification.py:1344: UndefinedMetricWarning: Recall and F-score are ill-defined and being set to 0.0 in labels with no true samples. Use `zero_division` parameter to control this behavior.\n",
      "  _warn_prf(average, modifier, msg_start, len(result))\n"
     ]
    }
   ],
   "source": [
    "y_pred =   np.argmax(model.predict(X_test_pad), axis  =  1)\n",
    "y_true = np.argmax(y_test, axis = 1)\n",
    "from sklearn import metrics\n",
    "print(metrics.classification_report(y_pred, y_true))"
   ]
  }
 ],
 "metadata": {
  "kernelspec": {
   "display_name": "tf",
   "language": "python",
   "name": "python3"
  },
  "language_info": {
   "codemirror_mode": {
    "name": "ipython",
    "version": 3
   },
   "file_extension": ".py",
   "mimetype": "text/x-python",
   "name": "python",
   "nbconvert_exporter": "python",
   "pygments_lexer": "ipython3",
   "version": "3.9.16"
  },
  "orig_nbformat": 4
 },
 "nbformat": 4,
 "nbformat_minor": 2
}
